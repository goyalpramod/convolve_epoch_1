{
 "cells": [
  {
   "cell_type": "code",
   "execution_count": 13,
   "id": "8f82d212",
   "metadata": {},
   "outputs": [
    {
     "data": {
      "text/plain": [
       "'C:\\\\Users\\\\rajag\\\\Desktop\\\\convolve\\\\convolve_epoch_1\\\\notebook'"
      ]
     },
     "execution_count": 13,
     "metadata": {},
     "output_type": "execute_result"
    }
   ],
   "source": [
    "pwd"
   ]
  },
  {
   "cell_type": "code",
   "execution_count": 14,
   "id": "1659d14c",
   "metadata": {},
   "outputs": [
    {
     "name": "stdout",
     "output_type": "stream",
     "text": [
      "C:\\Users\\rajag\\Desktop\\convolve\\convolve_epoch_1\n"
     ]
    }
   ],
   "source": [
    "cd .."
   ]
  },
  {
   "cell_type": "code",
   "execution_count": 15,
   "id": "c02f3771",
   "metadata": {},
   "outputs": [
    {
     "name": "stdout",
     "output_type": "stream",
     "text": [
      "C:\\Users\\rajag\\Desktop\\convolve\\convolve_epoch_1\\data\n"
     ]
    }
   ],
   "source": [
    "cd data"
   ]
  },
  {
   "cell_type": "code",
   "execution_count": 43,
   "id": "44f9886f",
   "metadata": {},
   "outputs": [],
   "source": [
    "import pandas as pd \n",
    "import numpy as np\n",
    "import json"
   ]
  },
  {
   "cell_type": "code",
   "execution_count": 52,
   "id": "29ec09a5",
   "metadata": {},
   "outputs": [],
   "source": [
    "with open('train.json', 'r') as f:\n",
    "    dict_train = json.load(f)\n",
    "\n",
    "df = pd.DataFrame.from_dict(dict_train, orient='index')\n",
    "df.reset_index(level=0, inplace=True)"
   ]
  },
  {
   "cell_type": "code",
   "execution_count": 55,
   "id": "bab4ac8b",
   "metadata": {},
   "outputs": [],
   "source": [
    "df.rename(columns = {'index':'log',0:'status'}, inplace = True)"
   ]
  },
  {
   "cell_type": "code",
   "execution_count": 57,
   "id": "7ad69edb",
   "metadata": {},
   "outputs": [
    {
     "data": {
      "text/plain": [
       "array(['normal', 'abnormal'], dtype=object)"
      ]
     },
     "execution_count": 57,
     "metadata": {},
     "output_type": "execute_result"
    }
   ],
   "source": [
    "df.status.unique()"
   ]
  },
  {
   "cell_type": "code",
   "execution_count": 61,
   "id": "53e1c2b7",
   "metadata": {},
   "outputs": [
    {
     "data": {
      "text/plain": [
       "98.32174999199307"
      ]
     },
     "execution_count": 61,
     "metadata": {},
     "output_type": "execute_result"
    }
   ],
   "source": [
    "percentage_normal = (len(df[df['status'] == 'normal'])/len(df))*100\n",
    "percentage_normal"
   ]
  },
  {
   "cell_type": "code",
   "execution_count": 62,
   "id": "f7615a2c",
   "metadata": {},
   "outputs": [
    {
     "data": {
      "text/plain": [
       "1.678250008006918"
      ]
     },
     "execution_count": 62,
     "metadata": {},
     "output_type": "execute_result"
    }
   ],
   "source": [
    "percentage_abnormal = percentage_normal = (len(df[df['status'] == 'abnormal'])/len(df))*100\n",
    "percentage_abnormal"
   ]
  },
  {
   "cell_type": "code",
   "execution_count": 63,
   "id": "4b2b7092",
   "metadata": {},
   "outputs": [
    {
     "data": {
      "text/plain": [
       "' 1117838570 2005.06.03 R02-M1-N0-C:J12-U11 2005-06-03-15.42.50.527847 R02-M1-N0-C:J12-U11 RAS KERNEL INFO instruction cache parity error corrected\\n'"
      ]
     },
     "execution_count": 63,
     "metadata": {},
     "output_type": "execute_result"
    }
   ],
   "source": [
    "df[df['status'] == 'normal']['log'].iloc[1]"
   ]
  },
  {
   "cell_type": "code",
   "execution_count": 64,
   "id": "47c76aa7",
   "metadata": {},
   "outputs": [
    {
     "data": {
      "text/html": [
       "<div>\n",
       "<style scoped>\n",
       "    .dataframe tbody tr th:only-of-type {\n",
       "        vertical-align: middle;\n",
       "    }\n",
       "\n",
       "    .dataframe tbody tr th {\n",
       "        vertical-align: top;\n",
       "    }\n",
       "\n",
       "    .dataframe thead th {\n",
       "        text-align: right;\n",
       "    }\n",
       "</style>\n",
       "<table border=\"1\" class=\"dataframe\">\n",
       "  <thead>\n",
       "    <tr style=\"text-align: right;\">\n",
       "      <th></th>\n",
       "      <th>log</th>\n",
       "      <th>status</th>\n",
       "    </tr>\n",
       "  </thead>\n",
       "  <tbody>\n",
       "    <tr>\n",
       "      <th>0</th>\n",
       "      <td>1117838570 2005.06.03 R02-M1-N0-C:J12-U11 2005-06-03-15.42.50.363779 R02-M1-N0-C:J12-U11 RAS KERNEL INFO instruction cache parity error corrected\\n</td>\n",
       "      <td>normal</td>\n",
       "    </tr>\n",
       "    <tr>\n",
       "      <th>1</th>\n",
       "      <td>1117838570 2005.06.03 R02-M1-N0-C:J12-U11 2005-06-03-15.42.50.527847 R02-M1-N0-C:J12-U11 RAS KERNEL INFO instruction cache parity error corrected\\n</td>\n",
       "      <td>normal</td>\n",
       "    </tr>\n",
       "    <tr>\n",
       "      <th>2</th>\n",
       "      <td>1117838570 2005.06.03 R02-M1-N0-C:J12-U11 2005-06-03-15.42.50.675872 R02-M1-N0-C:J12-U11 RAS KERNEL INFO instruction cache parity error corrected\\n</td>\n",
       "      <td>normal</td>\n",
       "    </tr>\n",
       "    <tr>\n",
       "      <th>3</th>\n",
       "      <td>1117838570 2005.06.03 R02-M1-N0-C:J12-U11 2005-06-03-15.42.50.823719 R02-M1-N0-C:J12-U11 RAS KERNEL INFO instruction cache parity error corrected\\n</td>\n",
       "      <td>normal</td>\n",
       "    </tr>\n",
       "    <tr>\n",
       "      <th>4</th>\n",
       "      <td>1117838570 2005.06.03 R02-M1-N0-C:J12-U11 2005-06-03-15.42.50.982731 R02-M1-N0-C:J12-U11 RAS KERNEL INFO instruction cache parity error corrected\\n</td>\n",
       "      <td>normal</td>\n",
       "    </tr>\n",
       "  </tbody>\n",
       "</table>\n",
       "</div>"
      ],
      "text/plain": [
       "                                                                                                                                                    log  \\\n",
       "0   1117838570 2005.06.03 R02-M1-N0-C:J12-U11 2005-06-03-15.42.50.363779 R02-M1-N0-C:J12-U11 RAS KERNEL INFO instruction cache parity error corrected\\n   \n",
       "1   1117838570 2005.06.03 R02-M1-N0-C:J12-U11 2005-06-03-15.42.50.527847 R02-M1-N0-C:J12-U11 RAS KERNEL INFO instruction cache parity error corrected\\n   \n",
       "2   1117838570 2005.06.03 R02-M1-N0-C:J12-U11 2005-06-03-15.42.50.675872 R02-M1-N0-C:J12-U11 RAS KERNEL INFO instruction cache parity error corrected\\n   \n",
       "3   1117838570 2005.06.03 R02-M1-N0-C:J12-U11 2005-06-03-15.42.50.823719 R02-M1-N0-C:J12-U11 RAS KERNEL INFO instruction cache parity error corrected\\n   \n",
       "4   1117838570 2005.06.03 R02-M1-N0-C:J12-U11 2005-06-03-15.42.50.982731 R02-M1-N0-C:J12-U11 RAS KERNEL INFO instruction cache parity error corrected\\n   \n",
       "\n",
       "   status  \n",
       "0  normal  \n",
       "1  normal  \n",
       "2  normal  \n",
       "3  normal  \n",
       "4  normal  "
      ]
     },
     "execution_count": 64,
     "metadata": {},
     "output_type": "execute_result"
    }
   ],
   "source": [
    "df.head()"
   ]
  },
  {
   "cell_type": "code",
   "execution_count": 65,
   "id": "c2ed9345",
   "metadata": {},
   "outputs": [],
   "source": [
    "df2 = df"
   ]
  },
  {
   "cell_type": "code",
   "execution_count": 66,
   "id": "4c32f1af",
   "metadata": {},
   "outputs": [],
   "source": [
    "df2[\"log\"]= df2[\"log\"].str.split(\":\", n = 3, expand = False)"
   ]
  },
  {
   "cell_type": "code",
   "execution_count": 67,
   "id": "adbc3023",
   "metadata": {},
   "outputs": [
    {
     "data": {
      "text/html": [
       "<div>\n",
       "<style scoped>\n",
       "    .dataframe tbody tr th:only-of-type {\n",
       "        vertical-align: middle;\n",
       "    }\n",
       "\n",
       "    .dataframe tbody tr th {\n",
       "        vertical-align: top;\n",
       "    }\n",
       "\n",
       "    .dataframe thead th {\n",
       "        text-align: right;\n",
       "    }\n",
       "</style>\n",
       "<table border=\"1\" class=\"dataframe\">\n",
       "  <thead>\n",
       "    <tr style=\"text-align: right;\">\n",
       "      <th></th>\n",
       "      <th>log</th>\n",
       "      <th>status</th>\n",
       "    </tr>\n",
       "  </thead>\n",
       "  <tbody>\n",
       "    <tr>\n",
       "      <th>0</th>\n",
       "      <td>[ 1117838570 2005.06.03 R02-M1-N0-C, J12-U11 2005-06-03-15.42.50.363779 R02-M1-N0-C, J12-U11 RAS KERNEL INFO instruction cache parity error corrected\\n]</td>\n",
       "      <td>normal</td>\n",
       "    </tr>\n",
       "    <tr>\n",
       "      <th>1</th>\n",
       "      <td>[ 1117838570 2005.06.03 R02-M1-N0-C, J12-U11 2005-06-03-15.42.50.527847 R02-M1-N0-C, J12-U11 RAS KERNEL INFO instruction cache parity error corrected\\n]</td>\n",
       "      <td>normal</td>\n",
       "    </tr>\n",
       "    <tr>\n",
       "      <th>2</th>\n",
       "      <td>[ 1117838570 2005.06.03 R02-M1-N0-C, J12-U11 2005-06-03-15.42.50.675872 R02-M1-N0-C, J12-U11 RAS KERNEL INFO instruction cache parity error corrected\\n]</td>\n",
       "      <td>normal</td>\n",
       "    </tr>\n",
       "    <tr>\n",
       "      <th>3</th>\n",
       "      <td>[ 1117838570 2005.06.03 R02-M1-N0-C, J12-U11 2005-06-03-15.42.50.823719 R02-M1-N0-C, J12-U11 RAS KERNEL INFO instruction cache parity error corrected\\n]</td>\n",
       "      <td>normal</td>\n",
       "    </tr>\n",
       "    <tr>\n",
       "      <th>4</th>\n",
       "      <td>[ 1117838570 2005.06.03 R02-M1-N0-C, J12-U11 2005-06-03-15.42.50.982731 R02-M1-N0-C, J12-U11 RAS KERNEL INFO instruction cache parity error corrected\\n]</td>\n",
       "      <td>normal</td>\n",
       "    </tr>\n",
       "  </tbody>\n",
       "</table>\n",
       "</div>"
      ],
      "text/plain": [
       "                                                                                                                                                        log  \\\n",
       "0  [ 1117838570 2005.06.03 R02-M1-N0-C, J12-U11 2005-06-03-15.42.50.363779 R02-M1-N0-C, J12-U11 RAS KERNEL INFO instruction cache parity error corrected\\n]   \n",
       "1  [ 1117838570 2005.06.03 R02-M1-N0-C, J12-U11 2005-06-03-15.42.50.527847 R02-M1-N0-C, J12-U11 RAS KERNEL INFO instruction cache parity error corrected\\n]   \n",
       "2  [ 1117838570 2005.06.03 R02-M1-N0-C, J12-U11 2005-06-03-15.42.50.675872 R02-M1-N0-C, J12-U11 RAS KERNEL INFO instruction cache parity error corrected\\n]   \n",
       "3  [ 1117838570 2005.06.03 R02-M1-N0-C, J12-U11 2005-06-03-15.42.50.823719 R02-M1-N0-C, J12-U11 RAS KERNEL INFO instruction cache parity error corrected\\n]   \n",
       "4  [ 1117838570 2005.06.03 R02-M1-N0-C, J12-U11 2005-06-03-15.42.50.982731 R02-M1-N0-C, J12-U11 RAS KERNEL INFO instruction cache parity error corrected\\n]   \n",
       "\n",
       "   status  \n",
       "0  normal  \n",
       "1  normal  \n",
       "2  normal  \n",
       "3  normal  \n",
       "4  normal  "
      ]
     },
     "execution_count": 67,
     "metadata": {},
     "output_type": "execute_result"
    }
   ],
   "source": [
    "df2.head()"
   ]
  },
  {
   "cell_type": "code",
   "execution_count": 68,
   "id": "d0127c4a",
   "metadata": {},
   "outputs": [
    {
     "data": {
      "text/plain": [
       "log       [ 1117838570 2005.06.03 R02-M1-N0-C, J12-U11 2005-06-03-15.42.50.527847 R02-M1-N0-C, J12-U11 RAS KERNEL INFO instruction cache parity error corrected\\n]\n",
       "status                                                                                                                                                      normal\n",
       "Name: 1, dtype: object"
      ]
     },
     "execution_count": 68,
     "metadata": {},
     "output_type": "execute_result"
    }
   ],
   "source": [
    "pd.set_option('display.max_colwidth', None)\n",
    "df2.iloc[1]"
   ]
  },
  {
   "cell_type": "code",
   "execution_count": 69,
   "id": "780ae4b4",
   "metadata": {},
   "outputs": [],
   "source": [
    "df3 = pd.DataFrame(df2['log'].to_list(), columns=['log1','log2','log3','log4'])"
   ]
  },
  {
   "cell_type": "code",
   "execution_count": 80,
   "id": "b6d5372f",
   "metadata": {},
   "outputs": [
    {
     "data": {
      "text/plain": [
       "14.37084046631327"
      ]
     },
     "execution_count": 80,
     "metadata": {},
     "output_type": "execute_result"
    }
   ],
   "source": [
    "(len(df3[df3['log4'].notnull()])/len(df))*100"
   ]
  },
  {
   "cell_type": "code",
   "execution_count": 83,
   "id": "a36a84f0",
   "metadata": {},
   "outputs": [
    {
     "ename": "SyntaxError",
     "evalue": "invalid syntax (<ipython-input-83-1ad9d95b0b99>, line 1)",
     "output_type": "error",
     "traceback": [
      "\u001b[1;36m  File \u001b[1;32m\"<ipython-input-83-1ad9d95b0b99>\"\u001b[1;36m, line \u001b[1;32m1\u001b[0m\n\u001b[1;33m    df4 = df3[!df3['log4'].notna]\u001b[0m\n\u001b[1;37m              ^\u001b[0m\n\u001b[1;31mSyntaxError\u001b[0m\u001b[1;31m:\u001b[0m invalid syntax\n"
     ]
    }
   ],
   "source": [
    "df4 = df3[!df3['log4'].notna]"
   ]
  },
  {
   "cell_type": "code",
   "execution_count": null,
   "id": "9ca4d9dc",
   "metadata": {},
   "outputs": [],
   "source": []
  },
  {
   "cell_type": "code",
   "execution_count": null,
   "id": "881990ab",
   "metadata": {},
   "outputs": [],
   "source": []
  },
  {
   "cell_type": "code",
   "execution_count": null,
   "id": "cc22494f",
   "metadata": {},
   "outputs": [],
   "source": []
  }
 ],
 "metadata": {
  "kernelspec": {
   "display_name": "Python 3",
   "language": "python",
   "name": "python3"
  },
  "language_info": {
   "codemirror_mode": {
    "name": "ipython",
    "version": 3
   },
   "file_extension": ".py",
   "mimetype": "text/x-python",
   "name": "python",
   "nbconvert_exporter": "python",
   "pygments_lexer": "ipython3",
   "version": "3.8.8"
  }
 },
 "nbformat": 4,
 "nbformat_minor": 5
}
