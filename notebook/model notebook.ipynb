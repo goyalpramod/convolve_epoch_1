{
 "cells": [
  {
   "cell_type": "code",
   "execution_count": 1,
   "id": "8f82d212",
   "metadata": {},
   "outputs": [
    {
     "data": {
      "text/plain": [
       "'C:\\\\Users\\\\rajag\\\\Desktop\\\\convolve\\\\convolve_epoch_1\\\\notebook'"
      ]
     },
     "execution_count": 1,
     "metadata": {},
     "output_type": "execute_result"
    }
   ],
   "source": [
    "pwd"
   ]
  },
  {
   "cell_type": "code",
   "execution_count": 2,
   "id": "1659d14c",
   "metadata": {},
   "outputs": [
    {
     "name": "stdout",
     "output_type": "stream",
     "text": [
      "C:\\Users\\rajag\\Desktop\\convolve\\convolve_epoch_1\n"
     ]
    }
   ],
   "source": [
    "cd .."
   ]
  },
  {
   "cell_type": "code",
   "execution_count": 3,
   "id": "c02f3771",
   "metadata": {},
   "outputs": [
    {
     "name": "stdout",
     "output_type": "stream",
     "text": [
      "C:\\Users\\rajag\\Desktop\\convolve\\convolve_epoch_1\\data\n"
     ]
    }
   ],
   "source": [
    "cd data"
   ]
  },
  {
   "cell_type": "code",
   "execution_count": 54,
   "id": "44f9886f",
   "metadata": {},
   "outputs": [],
   "source": [
    "import pandas as pd \n",
    "import numpy as np\n",
    "import json"
   ]
  },
  {
   "cell_type": "code",
   "execution_count": 55,
   "id": "c341b566",
   "metadata": {},
   "outputs": [],
   "source": [
    "\n",
    "# with open('train.json', 'r') as f:\n",
    "#     data = json.load(f)\n",
    "# df2 = pd.DataFrame.from_dict(data, orient=\"index\")\n",
    "# df = pd.DataFrame({'status': data})"
   ]
  },
  {
   "cell_type": "code",
   "execution_count": 56,
   "id": "0b671704",
   "metadata": {},
   "outputs": [],
   "source": [
    "# df2.head()"
   ]
  },
  {
   "cell_type": "code",
   "execution_count": 57,
   "id": "9583dab1",
   "metadata": {},
   "outputs": [],
   "source": [
    "# map_index_to_word = pd.read_json('train.json', typ='dictionary')"
   ]
  },
  {
   "cell_type": "code",
   "execution_count": 58,
   "id": "2c44045f",
   "metadata": {},
   "outputs": [],
   "source": [
    "# df2 = pd.DataFrame.from_dict(map_index_to_word, orient=\"index\")"
   ]
  },
  {
   "cell_type": "code",
   "execution_count": 59,
   "id": "8eff145c",
   "metadata": {},
   "outputs": [],
   "source": [
    "# type(map_index_to_word)"
   ]
  },
  {
   "cell_type": "code",
   "execution_count": 60,
   "id": "1c306f80",
   "metadata": {},
   "outputs": [],
   "source": [
    "# df['index'] = [i for i in range(df.shape[0])]"
   ]
  },
  {
   "cell_type": "code",
   "execution_count": 61,
   "id": "5a4fd69e",
   "metadata": {},
   "outputs": [
    {
     "data": {
      "text/html": [
       "<div>\n",
       "<style scoped>\n",
       "    .dataframe tbody tr th:only-of-type {\n",
       "        vertical-align: middle;\n",
       "    }\n",
       "\n",
       "    .dataframe tbody tr th {\n",
       "        vertical-align: top;\n",
       "    }\n",
       "\n",
       "    .dataframe thead th {\n",
       "        text-align: right;\n",
       "    }\n",
       "</style>\n",
       "<table border=\"1\" class=\"dataframe\">\n",
       "  <thead>\n",
       "    <tr style=\"text-align: right;\">\n",
       "      <th></th>\n",
       "      <th>status</th>\n",
       "      <th>index</th>\n",
       "    </tr>\n",
       "  </thead>\n",
       "  <tbody>\n",
       "    <tr>\n",
       "      <th>1117838570 2005.06.03 R02-M1-N0-C:J12-U11 2005-06-03-15.42.50.363779 R02-M1-N0-C:J12-U11 RAS KERNEL INFO instruction cache parity error corrected\\n</th>\n",
       "      <td>normal</td>\n",
       "      <td>0</td>\n",
       "    </tr>\n",
       "    <tr>\n",
       "      <th>1117838570 2005.06.03 R02-M1-N0-C:J12-U11 2005-06-03-15.42.50.527847 R02-M1-N0-C:J12-U11 RAS KERNEL INFO instruction cache parity error corrected\\n</th>\n",
       "      <td>normal</td>\n",
       "      <td>1</td>\n",
       "    </tr>\n",
       "    <tr>\n",
       "      <th>1117838570 2005.06.03 R02-M1-N0-C:J12-U11 2005-06-03-15.42.50.675872 R02-M1-N0-C:J12-U11 RAS KERNEL INFO instruction cache parity error corrected\\n</th>\n",
       "      <td>normal</td>\n",
       "      <td>2</td>\n",
       "    </tr>\n",
       "    <tr>\n",
       "      <th>1117838570 2005.06.03 R02-M1-N0-C:J12-U11 2005-06-03-15.42.50.823719 R02-M1-N0-C:J12-U11 RAS KERNEL INFO instruction cache parity error corrected\\n</th>\n",
       "      <td>normal</td>\n",
       "      <td>3</td>\n",
       "    </tr>\n",
       "    <tr>\n",
       "      <th>1117838570 2005.06.03 R02-M1-N0-C:J12-U11 2005-06-03-15.42.50.982731 R02-M1-N0-C:J12-U11 RAS KERNEL INFO instruction cache parity error corrected\\n</th>\n",
       "      <td>normal</td>\n",
       "      <td>4</td>\n",
       "    </tr>\n",
       "  </tbody>\n",
       "</table>\n",
       "</div>"
      ],
      "text/plain": [
       "                                                    status  index\n",
       " 1117838570 2005.06.03 R02-M1-N0-C:J12-U11 2005...  normal      0\n",
       " 1117838570 2005.06.03 R02-M1-N0-C:J12-U11 2005...  normal      1\n",
       " 1117838570 2005.06.03 R02-M1-N0-C:J12-U11 2005...  normal      2\n",
       " 1117838570 2005.06.03 R02-M1-N0-C:J12-U11 2005...  normal      3\n",
       " 1117838570 2005.06.03 R02-M1-N0-C:J12-U11 2005...  normal      4"
      ]
     },
     "execution_count": 61,
     "metadata": {},
     "output_type": "execute_result"
    }
   ],
   "source": [
    "# df.head()"
   ]
  },
  {
   "cell_type": "code",
   "execution_count": 62,
   "id": "836b78a8",
   "metadata": {},
   "outputs": [
    {
     "name": "stdout",
     "output_type": "stream",
     "text": [
      "status\n",
      "index\n"
     ]
    }
   ],
   "source": [
    "# for col in df.columns:\n",
    "#     print(col)"
   ]
  },
  {
   "cell_type": "code",
   "execution_count": 70,
   "id": "29ec09a5",
   "metadata": {},
   "outputs": [],
   "source": [
    "with open('train.json', 'r') as f:\n",
    "    dict_train = json.load(f)\n",
    "\n",
    "df = pd.DataFrame.from_dict(dict_train, orient='index')\n",
    "df.reset_index(level=0, inplace=True)"
   ]
  },
  {
   "cell_type": "code",
   "execution_count": 71,
   "id": "d6ac0882",
   "metadata": {},
   "outputs": [
    {
     "name": "stdout",
     "output_type": "stream",
     "text": [
      "index\n",
      "0\n"
     ]
    }
   ],
   "source": [
    "for col in df.columns:\n",
    "    print(col)"
   ]
  },
  {
   "cell_type": "code",
   "execution_count": 73,
   "id": "9e6e39d6",
   "metadata": {},
   "outputs": [
    {
     "data": {
      "text/html": [
       "<div>\n",
       "<style scoped>\n",
       "    .dataframe tbody tr th:only-of-type {\n",
       "        vertical-align: middle;\n",
       "    }\n",
       "\n",
       "    .dataframe tbody tr th {\n",
       "        vertical-align: top;\n",
       "    }\n",
       "\n",
       "    .dataframe thead th {\n",
       "        text-align: right;\n",
       "    }\n",
       "</style>\n",
       "<table border=\"1\" class=\"dataframe\">\n",
       "  <thead>\n",
       "    <tr style=\"text-align: right;\">\n",
       "      <th></th>\n",
       "      <th>index</th>\n",
       "      <th>0</th>\n",
       "    </tr>\n",
       "  </thead>\n",
       "  <tbody>\n",
       "    <tr>\n",
       "      <th>0</th>\n",
       "      <td>1117838570 2005.06.03 R02-M1-N0-C:J12-U11 200...</td>\n",
       "      <td>normal</td>\n",
       "    </tr>\n",
       "    <tr>\n",
       "      <th>1</th>\n",
       "      <td>1117838570 2005.06.03 R02-M1-N0-C:J12-U11 200...</td>\n",
       "      <td>normal</td>\n",
       "    </tr>\n",
       "    <tr>\n",
       "      <th>2</th>\n",
       "      <td>1117838570 2005.06.03 R02-M1-N0-C:J12-U11 200...</td>\n",
       "      <td>normal</td>\n",
       "    </tr>\n",
       "    <tr>\n",
       "      <th>3</th>\n",
       "      <td>1117838570 2005.06.03 R02-M1-N0-C:J12-U11 200...</td>\n",
       "      <td>normal</td>\n",
       "    </tr>\n",
       "    <tr>\n",
       "      <th>4</th>\n",
       "      <td>1117838570 2005.06.03 R02-M1-N0-C:J12-U11 200...</td>\n",
       "      <td>normal</td>\n",
       "    </tr>\n",
       "  </tbody>\n",
       "</table>\n",
       "</div>"
      ],
      "text/plain": [
       "                                               index       0\n",
       "0   1117838570 2005.06.03 R02-M1-N0-C:J12-U11 200...  normal\n",
       "1   1117838570 2005.06.03 R02-M1-N0-C:J12-U11 200...  normal\n",
       "2   1117838570 2005.06.03 R02-M1-N0-C:J12-U11 200...  normal\n",
       "3   1117838570 2005.06.03 R02-M1-N0-C:J12-U11 200...  normal\n",
       "4   1117838570 2005.06.03 R02-M1-N0-C:J12-U11 200...  normal"
      ]
     },
     "execution_count": 73,
     "metadata": {},
     "output_type": "execute_result"
    }
   ],
   "source": [
    "df.head()"
   ]
  },
  {
   "cell_type": "code",
   "execution_count": 76,
   "id": "bab4ac8b",
   "metadata": {},
   "outputs": [],
   "source": [
    "df.rename(columns = {'index':'log',0:'status'}, inplace = True)"
   ]
  },
  {
   "cell_type": "code",
   "execution_count": 77,
   "id": "59e8b712",
   "metadata": {},
   "outputs": [
    {
     "data": {
      "text/html": [
       "<div>\n",
       "<style scoped>\n",
       "    .dataframe tbody tr th:only-of-type {\n",
       "        vertical-align: middle;\n",
       "    }\n",
       "\n",
       "    .dataframe tbody tr th {\n",
       "        vertical-align: top;\n",
       "    }\n",
       "\n",
       "    .dataframe thead th {\n",
       "        text-align: right;\n",
       "    }\n",
       "</style>\n",
       "<table border=\"1\" class=\"dataframe\">\n",
       "  <thead>\n",
       "    <tr style=\"text-align: right;\">\n",
       "      <th></th>\n",
       "      <th>log</th>\n",
       "      <th>status</th>\n",
       "    </tr>\n",
       "  </thead>\n",
       "  <tbody>\n",
       "    <tr>\n",
       "      <th>0</th>\n",
       "      <td>1117838570 2005.06.03 R02-M1-N0-C:J12-U11 200...</td>\n",
       "      <td>normal</td>\n",
       "    </tr>\n",
       "    <tr>\n",
       "      <th>1</th>\n",
       "      <td>1117838570 2005.06.03 R02-M1-N0-C:J12-U11 200...</td>\n",
       "      <td>normal</td>\n",
       "    </tr>\n",
       "    <tr>\n",
       "      <th>2</th>\n",
       "      <td>1117838570 2005.06.03 R02-M1-N0-C:J12-U11 200...</td>\n",
       "      <td>normal</td>\n",
       "    </tr>\n",
       "    <tr>\n",
       "      <th>3</th>\n",
       "      <td>1117838570 2005.06.03 R02-M1-N0-C:J12-U11 200...</td>\n",
       "      <td>normal</td>\n",
       "    </tr>\n",
       "    <tr>\n",
       "      <th>4</th>\n",
       "      <td>1117838570 2005.06.03 R02-M1-N0-C:J12-U11 200...</td>\n",
       "      <td>normal</td>\n",
       "    </tr>\n",
       "  </tbody>\n",
       "</table>\n",
       "</div>"
      ],
      "text/plain": [
       "                                                 log  status\n",
       "0   1117838570 2005.06.03 R02-M1-N0-C:J12-U11 200...  normal\n",
       "1   1117838570 2005.06.03 R02-M1-N0-C:J12-U11 200...  normal\n",
       "2   1117838570 2005.06.03 R02-M1-N0-C:J12-U11 200...  normal\n",
       "3   1117838570 2005.06.03 R02-M1-N0-C:J12-U11 200...  normal\n",
       "4   1117838570 2005.06.03 R02-M1-N0-C:J12-U11 200...  normal"
      ]
     },
     "execution_count": 77,
     "metadata": {},
     "output_type": "execute_result"
    }
   ],
   "source": [
    "df.head()"
   ]
  },
  {
   "cell_type": "code",
   "execution_count": 82,
   "id": "7ad69edb",
   "metadata": {},
   "outputs": [
    {
     "data": {
      "text/plain": [
       "array(['normal', 'abnormal'], dtype=object)"
      ]
     },
     "execution_count": 82,
     "metadata": {},
     "output_type": "execute_result"
    }
   ],
   "source": [
    "df.status.unique()"
   ]
  },
  {
   "cell_type": "code",
   "execution_count": 83,
   "id": "82b0232a",
   "metadata": {},
   "outputs": [
    {
     "data": {
      "text/plain": [
       "69692"
      ]
     },
     "execution_count": 83,
     "metadata": {},
     "output_type": "execute_result"
    }
   ],
   "source": [
    "# len(df[df['status'] == 'abnormal'])"
   ]
  },
  {
   "cell_type": "code",
   "execution_count": 84,
   "id": "0155a14d",
   "metadata": {},
   "outputs": [
    {
     "data": {
      "text/plain": [
       "4082967"
      ]
     },
     "execution_count": 84,
     "metadata": {},
     "output_type": "execute_result"
    }
   ],
   "source": [
    "# len(df[df['status'] == 'normal'])"
   ]
  },
  {
   "cell_type": "code",
   "execution_count": 85,
   "id": "31f58361",
   "metadata": {},
   "outputs": [
    {
     "data": {
      "text/plain": [
       "4152659"
      ]
     },
     "execution_count": 85,
     "metadata": {},
     "output_type": "execute_result"
    }
   ],
   "source": [
    "# len(df)"
   ]
  },
  {
   "cell_type": "code",
   "execution_count": 87,
   "id": "53e1c2b7",
   "metadata": {},
   "outputs": [
    {
     "data": {
      "text/plain": [
       "98.32174999199307"
      ]
     },
     "execution_count": 87,
     "metadata": {},
     "output_type": "execute_result"
    }
   ],
   "source": [
    "percentage_normal = (len(df[df['status'] == 'normal'])/len(df))*100\n",
    "percentage_normal"
   ]
  },
  {
   "cell_type": "code",
   "execution_count": 88,
   "id": "f7615a2c",
   "metadata": {},
   "outputs": [
    {
     "data": {
      "text/plain": [
       "1.678250008006918"
      ]
     },
     "execution_count": 88,
     "metadata": {},
     "output_type": "execute_result"
    }
   ],
   "source": [
    "percentage_abnormal = percentage_normal = (len(df[df['status'] == 'abnormal'])/len(df))*100\n",
    "percentage_abnormal"
   ]
  },
  {
   "cell_type": "code",
   "execution_count": 96,
   "id": "4b2b7092",
   "metadata": {},
   "outputs": [
    {
     "data": {
      "text/plain": [
       "'1118535931 2005.06.11 R30-M0-N9-C:J16-U01 2005-06-11-17.25.31.599660 R30-M0-N9-C:J16-U01 RAS KERNEL FATAL data TLB error interrupt'"
      ]
     },
     "execution_count": 96,
     "metadata": {},
     "output_type": "execute_result"
    }
   ],
   "source": [
    "df[df['status'] == 'abnormal']['log'].iloc[6000]"
   ]
  },
  {
   "cell_type": "code",
   "execution_count": null,
   "id": "47c76aa7",
   "metadata": {},
   "outputs": [],
   "source": []
  }
 ],
 "metadata": {
  "kernelspec": {
   "display_name": "Python 3",
   "language": "python",
   "name": "python3"
  },
  "language_info": {
   "codemirror_mode": {
    "name": "ipython",
    "version": 3
   },
   "file_extension": ".py",
   "mimetype": "text/x-python",
   "name": "python",
   "nbconvert_exporter": "python",
   "pygments_lexer": "ipython3",
   "version": "3.8.8"
  }
 },
 "nbformat": 4,
 "nbformat_minor": 5
}
