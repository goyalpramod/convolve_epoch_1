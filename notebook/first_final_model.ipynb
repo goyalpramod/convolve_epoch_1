{
 "cells": [
  {
   "cell_type": "code",
   "execution_count": 1,
   "id": "5d8680c1",
   "metadata": {},
   "outputs": [
    {
     "name": "stdout",
     "output_type": "stream",
     "text": [
      "C:\\Users\\rajag\\Desktop\\convolve\\convolve_epoch_1\n"
     ]
    }
   ],
   "source": [
    "cd .."
   ]
  },
  {
   "cell_type": "code",
   "execution_count": 2,
   "id": "3f32355d",
   "metadata": {},
   "outputs": [
    {
     "name": "stdout",
     "output_type": "stream",
     "text": [
      "C:\\Users\\rajag\\Desktop\\convolve\\convolve_epoch_1\\data\n"
     ]
    }
   ],
   "source": [
    "cd data"
   ]
  },
  {
   "cell_type": "code",
   "execution_count": 3,
   "id": "03920323",
   "metadata": {},
   "outputs": [],
   "source": [
    "# import libraries\n",
    "import pandas as pd \n",
    "import numpy as np\n",
    "import json"
   ]
  },
  {
   "cell_type": "code",
   "execution_count": 4,
   "id": "1c472176",
   "metadata": {},
   "outputs": [],
   "source": [
    "# custom settings \n",
    "pd.set_option('display.max_colwidth', None)"
   ]
  },
  {
   "cell_type": "code",
   "execution_count": 5,
   "id": "dc43a88e",
   "metadata": {},
   "outputs": [],
   "source": [
    "# get the data \n",
    "with open('train.json', 'r') as f:\n",
    "    dict_train = json.load(f)\n",
    "\n",
    "df = pd.DataFrame.from_dict(dict_train, orient='index')\n",
    "df.reset_index(level=0, inplace=True)\n",
    "df.rename(columns = {'index':'log',0:'status'}, inplace = True)"
   ]
  },
  {
   "cell_type": "code",
   "execution_count": 6,
   "id": "96d5d20f",
   "metadata": {},
   "outputs": [],
   "source": [
    "# Prepare the training data\n",
    "df_parsed = df.copy(deep=True)\n",
    "df_parsed[\"log\"]= df_parsed[\"log\"].str.split(\":\", n = 3, expand = False)\n",
    "df_temp = df_parsed.copy(deep=True)\n",
    "df_temp = pd.DataFrame(df_parsed['log'].to_list(), columns=['log1','log2','log3','log4'])\n",
    "df_temp['status'] = df_parsed['status']\n",
    "df4 = df_temp[df_temp['log4'].isnull()].copy(deep=True)\n",
    "df5 = df_temp[df_temp['log4'].notnull()].copy(deep=True)\n",
    "train1 = df4.drop(['log4', 'log1', 'log2'], axis=1)\n",
    "train2 = df5.drop(['log3', 'log1', 'log2'], axis=1)\n",
    "train1.rename(columns = {'log3':'log'}, inplace = True)\n",
    "train2.rename(columns = {'log4':'log'}, inplace = True)\n",
    "tmp_list = [train1,train2]\n",
    "train = pd.concat(tmp_list)\n",
    "train = train.dropna()"
   ]
  },
  {
   "cell_type": "markdown",
   "id": "366ba3d3",
   "metadata": {},
   "source": [
    "# Trying to deal with the imbalance in the dataset "
   ]
  },
  {
   "cell_type": "code",
   "execution_count": null,
   "id": "5e946fdd",
   "metadata": {},
   "outputs": [],
   "source": [
    "# method 6 \n",
    "raw_data = df.copy(deep=True)"
   ]
  },
  {
   "cell_type": "code",
   "execution_count": null,
   "id": "db532e06",
   "metadata": {},
   "outputs": [],
   "source": [
    "# method 1\n",
    "# doing a 50 50 split\n",
    "\n",
    "train_new1 = train.sample(frac=1)\n",
    "\n",
    "fraud_df = train_new1.loc[train_new1['status'] == \"abnormal\"]\n",
    "non_fraud_df = train_new1.loc[train_new1['status'] == \"normal\"][:69692]\n",
    "\n",
    "normal_distributed_df = pd.concat([fraud_df, non_fraud_df])\n",
    "\n",
    "# Shuffle dataframe rows\n",
    "balanced_train1 = normal_distributed_df.sample(frac=1, random_state=42)"
   ]
  },
  {
   "cell_type": "code",
   "execution_count": 7,
   "id": "2dafddb1",
   "metadata": {},
   "outputs": [],
   "source": [
    "# method 5, custom sampler\n",
    "total_normal = train[train[\"status\"] == \"normal\"]\n",
    "total_abnormal = train[train[\"status\"] == \"abnormal\"]\n",
    "\n",
    "sampled_total_normal = total_normal.sample(n=69692)\n",
    "\n",
    "normal_distributed_df = pd.concat([total_abnormal, sampled_total_normal])\n",
    "\n",
    "balanced_train2 = normal_distributed_df.sample(frac=1,random_state=42)"
   ]
  },
  {
   "cell_type": "code",
   "execution_count": null,
   "id": "9e93a3b3",
   "metadata": {},
   "outputs": [],
   "source": [
    "# method 2\n",
    "# Over sampling- making copies of the minority class\n",
    "\n",
    "X = train.drop('status',axis=1)\n",
    "y = train['status']\n",
    "from sklearn.model_selection import train_test_split\n",
    "from sklearn.utils import resample\n",
    "#split data into test and training sets\n",
    "X_train, X_test, y_train, y_test = train_test_split( X, y, test_size=0.33, random_state=42)\n",
    "#combine them back for resampling\n",
    "train_data = pd.concat([X_train, y_train], axis=1)\n",
    "# separate minority and majority classes\n",
    "negative = train_data[train_data.status==\"abnormal\"]\n",
    "positive = train_data[train_data.status==\"normal\"]\n",
    "# upsample minority\n",
    "pos_upsampled = resample(positive,\n",
    " replace=True, # sample with replacement\n",
    " n_samples=len(negative), # match number in majority class\n",
    " random_state=27) # reproducible results\n",
    "# combine majority and upsampled minority\n",
    "upsampled = pd.concat([negative, pos_upsampled])\n",
    "# check new class counts\n",
    "upsampled.status.value_counts()"
   ]
  },
  {
   "cell_type": "code",
   "execution_count": null,
   "id": "5fcb01ae",
   "metadata": {},
   "outputs": [],
   "source": [
    "# method 3\n",
    "# downsample majority\n",
    "\n",
    "neg_downsampled = resample(negative,\n",
    " replace=True, # sample with replacement\n",
    " n_samples=len(positive), # match number in minority class\n",
    " random_state=27) # reproducible results\n",
    "# combine minority and downsampled majority\n",
    "downsampled = pd.concat([positive, neg_downsampled])\n",
    "# check new class counts\n",
    "downsampled.status.value_counts()"
   ]
  },
  {
   "cell_type": "code",
   "execution_count": null,
   "id": "b7d4736f",
   "metadata": {},
   "outputs": [],
   "source": [
    "# # method 4\n",
    "# # over sampling using smote \n",
    "# # data first needs to be vectorized to use smote\n",
    "# from imblearn.over_sampling import SMOTE\n",
    "# # Separate input features and target\n",
    "# X = df.drop('status',axis=1)\n",
    "# y = df['status']\n",
    "# # setting up testing and training sets\n",
    "# X_train, X_test, y_train, y_test = train_test_split(X, y, test_size=0.25, random_state=27)\n",
    "# sm = SMOTE(random_state=27)\n",
    "# X_train, y_train = sm.fit_resample(X_train, y_train)\n",
    "# y_train = pd.DataFrame(y_train, columns = ['status'])\n",
    "# balanced_train3 = pd.concat([X_train, y_train], axis=1)"
   ]
  },
  {
   "cell_type": "markdown",
   "id": "d1f23263",
   "metadata": {},
   "source": [
    "# Tokenizer \n",
    "### Tokenizer is used to split sentences to words or chracters etc\n",
    "###### (Specific libraries do their own shit tho)"
   ]
  },
  {
   "cell_type": "code",
   "execution_count": null,
   "id": "3667b164",
   "metadata": {},
   "outputs": [],
   "source": [
    "# tokenizer 1\n",
    "\n",
    "import tensorflow as tf\n",
    "import numpy as np # linear algebra\n",
    "import pandas as pd # data processing, CSV file I/O (e.g. pd.read_csv)\n",
    "\n",
    "\n",
    "from sklearn.feature_extraction.text import CountVectorizer\n",
    "from keras.preprocessing.text import Tokenizer\n",
    "from keras_preprocessing.sequence import pad_sequences\n",
    "from keras.models import Sequential\n",
    "from keras.layers import Dense, Embedding, LSTM, SpatialDropout1D\n",
    "from sklearn.model_selection import train_test_split\n",
    "from keras.utils.np_utils import to_categorical\n",
    "from sklearn.utils import resample\n",
    "from sklearn.utils import shuffle\n",
    "from sklearn.metrics import confusion_matrix,classification_report\n",
    "import re\n",
    "\n",
    "max_fatures = 2000\n",
    "tokenizer = Tokenizer(num_words=max_fatures, split=' ')\n",
    "tokenizer.fit_on_texts(new_df['log3'].values)\n",
    "X = tokenizer.texts_to_sequences(new_df['log3'].values)\n",
    "X = pad_sequences(X)\n",
    "\n",
    "Y = pd.get_dummies(new_df['status']).values\n",
    "X_train, X_test, Y_train, Y_test = train_test_split(X,Y, test_size = 0.20, random_state = 42)\n",
    "print(X_train.shape,Y_train.shape)\n",
    "print(X_test.shape,Y_test.shape)"
   ]
  },
  {
   "cell_type": "code",
   "execution_count": null,
   "id": "ad5d7fdc",
   "metadata": {},
   "outputs": [],
   "source": [
    "# Tokenizer 2\n",
    "# reference -> https://www.kaggle.com/code/ashokkumarpalivela/sentiment-analysis-with-machine-learning\n",
    "\n",
    "from sklearn.feature_extraction.text import TfidfVectorizer\n",
    "from sklearn.feature_extraction.text import CountVectorizer\n",
    "\n",
    "from keras.preprocessing.text import Tokenizer\n",
    "from keras_preprocessing.sequence import pad_sequences\n",
    "\n",
    "tfidf_vectorizer = TfidfVectorizer(max_features=10000)\n",
    "tfidf_vectorizer.fit(X_train)\n",
    "\n",
    "# transform\n",
    "tfidf_X_train = tfidf_vectorizer.transform(X_train)\n",
    "tfidf_X_test = tfidf_vectorizer.transform(X_test)"
   ]
  },
  {
   "cell_type": "code",
   "execution_count": null,
   "id": "c730b564",
   "metadata": {},
   "outputs": [],
   "source": [
    "from sklearn.feature_extraction.text import TfidfVectorizer\n",
    "\n",
    "tfidf_vectorizer = TfidfVectorizer(max_features=10000)\n",
    "tfidf_balanced_dataset = tfidf_vectorizer.fit_transform(balanced_train2)"
   ]
  },
  {
   "cell_type": "code",
   "execution_count": null,
   "id": "25ee7841",
   "metadata": {},
   "outputs": [],
   "source": []
  },
  {
   "cell_type": "code",
   "execution_count": null,
   "id": "d42f169d",
   "metadata": {},
   "outputs": [],
   "source": []
  },
  {
   "cell_type": "code",
   "execution_count": null,
   "id": "4c5ee0ba",
   "metadata": {},
   "outputs": [],
   "source": []
  },
  {
   "cell_type": "code",
   "execution_count": null,
   "id": "08179fce",
   "metadata": {},
   "outputs": [],
   "source": []
  },
  {
   "cell_type": "markdown",
   "id": "8f0d5a2c",
   "metadata": {},
   "source": [
    "# Vectorizer\n",
    "### Vectorizer converts words to integers"
   ]
  },
  {
   "cell_type": "code",
   "execution_count": null,
   "id": "49a4c63b",
   "metadata": {},
   "outputs": [],
   "source": []
  },
  {
   "cell_type": "code",
   "execution_count": null,
   "id": "29119a08",
   "metadata": {},
   "outputs": [],
   "source": []
  },
  {
   "cell_type": "code",
   "execution_count": null,
   "id": "4b75a473",
   "metadata": {},
   "outputs": [],
   "source": []
  },
  {
   "cell_type": "code",
   "execution_count": null,
   "id": "0a566ca5",
   "metadata": {},
   "outputs": [],
   "source": []
  },
  {
   "cell_type": "code",
   "execution_count": null,
   "id": "ba9abeb9",
   "metadata": {},
   "outputs": [],
   "source": []
  },
  {
   "cell_type": "code",
   "execution_count": null,
   "id": "b6bc7747",
   "metadata": {},
   "outputs": [],
   "source": []
  },
  {
   "cell_type": "code",
   "execution_count": null,
   "id": "13f2ba8f",
   "metadata": {},
   "outputs": [],
   "source": []
  },
  {
   "cell_type": "code",
   "execution_count": null,
   "id": "59921aa8",
   "metadata": {},
   "outputs": [],
   "source": []
  },
  {
   "cell_type": "markdown",
   "id": "33d5a8b4",
   "metadata": {},
   "source": [
    "# Model"
   ]
  },
  {
   "cell_type": "code",
   "execution_count": null,
   "id": "ce96c66c",
   "metadata": {},
   "outputs": [],
   "source": [
    "# model 1 used with tokenizer 1\n",
    "embed_dim = 128\n",
    "lstm_out = 196\n",
    "\n",
    "model = Sequential()\n",
    "model.add(Embedding(max_fatures, embed_dim,input_length = X.shape[1]))\n",
    "model.add(SpatialDropout1D(0.4))\n",
    "model.add(LSTM(lstm_out, dropout=0.2, recurrent_dropout=0.2))\n",
    "model.add(Dense(2,activation='softmax'))\n",
    "model.compile(loss = 'categorical_crossentropy', optimizer='adam',metrics = ['accuracy'])\n",
    "print(model.summary())"
   ]
  },
  {
   "cell_type": "code",
   "execution_count": null,
   "id": "c694f432",
   "metadata": {},
   "outputs": [],
   "source": [
    "batch_size = 128\n",
    "model.fit(X_train, Y_train, epochs = 2, batch_size=batch_size, verbose = 1)"
   ]
  },
  {
   "cell_type": "code",
   "execution_count": null,
   "id": "5165928f",
   "metadata": {},
   "outputs": [],
   "source": [
    "Y_pred = model.predict(X_test,batch_size = batch_size)"
   ]
  },
  {
   "cell_type": "code",
   "execution_count": null,
   "id": "50e9b293",
   "metadata": {},
   "outputs": [],
   "source": [
    "# reference for the above shjit -> https://www.kaggle.com/code/sanjay11100/lstm-sentiment-analysis-data-imbalance-keras/notebook"
   ]
  },
  {
   "cell_type": "code",
   "execution_count": null,
   "id": "853660ef",
   "metadata": {},
   "outputs": [],
   "source": [
    "# model 2\n",
    "\n"
   ]
  },
  {
   "cell_type": "code",
   "execution_count": null,
   "id": "186019cc",
   "metadata": {},
   "outputs": [],
   "source": []
  },
  {
   "cell_type": "code",
   "execution_count": null,
   "id": "52370977",
   "metadata": {},
   "outputs": [],
   "source": []
  },
  {
   "cell_type": "code",
   "execution_count": null,
   "id": "4e1d610f",
   "metadata": {},
   "outputs": [],
   "source": [
    "# model 3\n",
    "import numpy as np # linear algebra\n",
    "import pandas as pd # data processing, CSV file I/O (e.g. pd.read_csv)\n",
    "import xgboost as xgb"
   ]
  },
  {
   "cell_type": "code",
   "execution_count": null,
   "id": "cce41950",
   "metadata": {},
   "outputs": [],
   "source": [
    "model3 = xgb.XGBClassifier(\n",
    " learning_rate =0.1,\n",
    " n_estimators=1000,\n",
    " max_depth=5,\n",
    " min_child_weight=1,\n",
    " gamma=0,\n",
    " subsample=0.8,\n",
    " colsample_bytree=0.8,\n",
    " objective= 'binary:logistic',\n",
    " nthread=4,\n",
    " scale_pos_weight=1,\n",
    " seed=27)"
   ]
  },
  {
   "cell_type": "code",
   "execution_count": null,
   "id": "7bb41407",
   "metadata": {},
   "outputs": [],
   "source": [
    "# tokenization done using tokenizer 1 \n",
    "train_model3 = model3.fit(X_train, Y_train)\n",
    "pred3 = train_model3.predict(X_test)"
   ]
  },
  {
   "cell_type": "code",
   "execution_count": null,
   "id": "82994369",
   "metadata": {},
   "outputs": [],
   "source": [
    "print(classification_report(Y_test,pred3))"
   ]
  },
  {
   "cell_type": "code",
   "execution_count": null,
   "id": "26e3e39c",
   "metadata": {},
   "outputs": [],
   "source": []
  },
  {
   "cell_type": "code",
   "execution_count": null,
   "id": "df30cf9e",
   "metadata": {},
   "outputs": [],
   "source": []
  },
  {
   "cell_type": "markdown",
   "id": "a7f6c387",
   "metadata": {},
   "source": [
    "# working method 1"
   ]
  },
  {
   "cell_type": "code",
   "execution_count": null,
   "id": "4e4f6c5f",
   "metadata": {},
   "outputs": [],
   "source": [
    "# https://towardsdatascience.com/approaches-to-sentimental-analysis-on-a-small-imbalanced-dataset-without-deep-learning-a314817e687"
   ]
  },
  {
   "cell_type": "code",
   "execution_count": 8,
   "id": "3d58d082",
   "metadata": {},
   "outputs": [],
   "source": [
    "test = pd.read_csv(\"test.csv\")"
   ]
  },
  {
   "cell_type": "code",
   "execution_count": 9,
   "id": "c31f4170",
   "metadata": {},
   "outputs": [],
   "source": [
    "df_parsed = test.copy(deep=True)\n",
    "df_parsed[\" Log\"]= df_parsed[\" Log\"].str.split(\":\", n = 3, expand = False)\n",
    "df_temp = df_parsed.copy(deep=True)\n",
    "df_temp = pd.DataFrame(df_parsed[' Log'].to_list(), columns=['log1','log2','log3','log4'])\n",
    "df_temp['ID'] = df_parsed['ID']\n",
    "df4 = df_temp[df_temp['log4'].isnull()].copy(deep=True)\n",
    "df5 = df_temp[df_temp['log4'].notnull()].copy(deep=True)\n",
    "train1 = df4.drop(['log4', 'log1', 'log2'], axis=1)\n",
    "train2 = df5.drop(['log3', 'log1', 'log2'], axis=1)\n",
    "train1.rename(columns = {'log3':'log'}, inplace = True)\n",
    "train2.rename(columns = {'log4':'log'}, inplace = True)\n",
    "tmp_list = [train1,train2]\n",
    "train = pd.concat(tmp_list)\n",
    "test = train\n",
    "# test = train.dropna()"
   ]
  },
  {
   "cell_type": "code",
   "execution_count": 10,
   "id": "3509a75b",
   "metadata": {},
   "outputs": [],
   "source": [
    "test = test.fillna(test.mode().iloc[0])"
   ]
  },
  {
   "cell_type": "code",
   "execution_count": 11,
   "id": "2a57e964",
   "metadata": {},
   "outputs": [],
   "source": [
    "test = test.sort_values(\"ID\")"
   ]
  },
  {
   "cell_type": "code",
   "execution_count": null,
   "id": "eb2638b0",
   "metadata": {},
   "outputs": [],
   "source": [
    "# balanced_train2 done\n",
    "train = balanced_train2.copy(deep=True)"
   ]
  },
  {
   "cell_type": "code",
   "execution_count": 12,
   "id": "e16945b7",
   "metadata": {},
   "outputs": [],
   "source": [
    "from nltk.tokenize import TweetTokenizer\n",
    "from sklearn.feature_extraction.text import TfidfVectorizer"
   ]
  },
  {
   "cell_type": "code",
   "execution_count": null,
   "id": "44c3854f",
   "metadata": {},
   "outputs": [],
   "source": [
    "tokenizer = TweetTokenizer()\n",
    "vectorizer = TfidfVectorizer(ngram_range=(1, 3), tokenizer=tokenizer.tokenize)\n",
    "full_text = list(train['log'].values) + list(test['log'].values)\n",
    "vectorizer.fit(full_text)\n",
    "train_vectorized = vectorizer.transform(train['log'])\n",
    "test_vectorized = vectorizer.transform(test['log'])\n",
    "y = train['status']"
   ]
  },
  {
   "cell_type": "code",
   "execution_count": null,
   "id": "9c30dc2c",
   "metadata": {},
   "outputs": [],
   "source": [
    "# new\n",
    "vectorizer = TfidfVectorizer(ngram_range=(1, 3), tokenizer=tokenizer.tokenize, stop_words='english')\n",
    "full_text = list(train['text'].values) + list(test['text'].values)\n",
    "vectorizer.fit(full_text)\n",
    "train_vectorized = vectorizer.transform(train['text'])\n",
    "test_vectorized = vectorizer.transform(test['text'])\n",
    "vectorizer1 = TfidfVectorizer(ngram_range=(1, 5), analyzer='char')\n",
    "full_text = list(train['text'].values) + list(test['text'].values)\n",
    "vectorizer1.fit(full_text)\n",
    "train_vectorized1 = vectorizer1.transform(train['text'])\n",
    "test_vectorized1 = vectorizer1.transform(test['text'])\n",
    "train_matrix = hstack((train_vectorized, train_vectorized1))\n",
    "test_matrix = hstack((test_vectorized, test_vectorized1))"
   ]
  },
  {
   "cell_type": "code",
   "execution_count": null,
   "id": "1b466798",
   "metadata": {},
   "outputs": [],
   "source": [
    "# new\n",
    "combined_features = FeatureUnion([('tfidf', TfidfVectorizer(ngram_range=(1, 3))),\n",
    "                                  ('tfidf_char', TfidfVectorizer(ngram_range=(1, 3), analyzer='char'))])\n",
    "pipeline = Pipeline([(\"features\", combined_features),\n",
    "                     ('clf', OneVsRestClassifier(LogisticRegression(class_weight='balanced')))])\n",
    "parameters = {\n",
    "    'features__tfidf__max_df': (0.3, 0.75),\n",
    "    'features__tfidf_char__max_df': (0.3, 0.75),    \n",
    "    'clf__estimator__C': (1.0, 10.0)\n",
    "}\n",
    "grid_search = GridSearchCV(pipeline, parameters, cv=folds,\n",
    "                               n_jobs=-1, verbose=1, scoring='f1_macro')\n",
    "grid_search.fit(train['new_text'], train['sentiment'])"
   ]
  },
  {
   "cell_type": "code",
   "execution_count": null,
   "id": "3083bd9d",
   "metadata": {},
   "outputs": [],
   "source": [
    "from sklearn.linear_model import LogisticRegression\n",
    "from sklearn.multiclass import OneVsRestClassifier\n",
    "\n",
    "logreg = LogisticRegression(class_weight='balanced')\n",
    "ovr = OneVsRestClassifier(logreg).fit(train_vectorized,y)"
   ]
  },
  {
   "cell_type": "code",
   "execution_count": null,
   "id": "65310cb1",
   "metadata": {},
   "outputs": [],
   "source": [
    "from sklearn.model_selection import cross_val_score\n",
    "\n",
    "scores = cross_val_score(ovr, train_vectorized, y, scoring='f1_macro', n_jobs=-1, cv=3)\n",
    "print('Cross-validation mean f1_score {0:.2f}%, std {1:.2f}.'.format(np.mean(scores), np.std(scores)))"
   ]
  },
  {
   "cell_type": "code",
   "execution_count": null,
   "id": "e861c1a8",
   "metadata": {},
   "outputs": [],
   "source": [
    "# to remove duplicate columns \n",
    "# sub= sub.loc[:,~sub.columns.duplicated()].copy()"
   ]
  },
  {
   "cell_type": "code",
   "execution_count": null,
   "id": "9b4851af",
   "metadata": {},
   "outputs": [],
   "source": [
    "sub = test\n",
    "sub['status'] = pred.argmax(1)\n",
    "sub = sub.drop(['log'], axis=1)\n",
    "sub.rename(columns = {'status':' Label',}, inplace = True)\n",
    "sub[\" Label\"] = sub[\" Label\"].map({0:\"abnormal\",1:\"normal\"})"
   ]
  },
  {
   "cell_type": "code",
   "execution_count": null,
   "id": "cd591faf",
   "metadata": {},
   "outputs": [],
   "source": [
    "sub.head()"
   ]
  },
  {
   "cell_type": "code",
   "execution_count": null,
   "id": "01b487ff",
   "metadata": {},
   "outputs": [],
   "source": [
    "cd .."
   ]
  },
  {
   "cell_type": "code",
   "execution_count": null,
   "id": "f75d3cee",
   "metadata": {},
   "outputs": [],
   "source": [
    "cd submission"
   ]
  },
  {
   "cell_type": "code",
   "execution_count": null,
   "id": "a889eae2",
   "metadata": {},
   "outputs": [],
   "source": [
    "sub.to_csv(r'C:\\Users\\rajag\\Desktop\\convolve\\convolve_epoch_1\\submission\\submission_2.csv', index=False)"
   ]
  },
  {
   "cell_type": "code",
   "execution_count": null,
   "id": "ba2b5519",
   "metadata": {},
   "outputs": [],
   "source": []
  },
  {
   "cell_type": "markdown",
   "id": "e5328f06",
   "metadata": {},
   "source": [
    "# working method 2"
   ]
  },
  {
   "cell_type": "code",
   "execution_count": 13,
   "id": "e0f267be",
   "metadata": {},
   "outputs": [],
   "source": [
    "import numpy as np # linear algebra\n",
    "import pandas as pd # data processing, CSV file I/O (e.g. pd.read_csv)\n",
    "import xgboost as xgb\n",
    "from keras.preprocessing.text import Tokenizer\n",
    "from keras_preprocessing.sequence import pad_sequences\n",
    "from sklearn.model_selection import train_test_split\n",
    "from sklearn.metrics import confusion_matrix,classification_report\n",
    "\n",
    "# Input data files are available in the \"../input/\" directory.b\n",
    "# For example, running this (by clicking run or pressing Shift+Enter) will list the files in the input directory\n",
    "\n",
    "# from subprocess import check_output\n",
    "# print(check_output([\"ls\", \"../input\"]).decode(\"utf8\"))"
   ]
  },
  {
   "cell_type": "code",
   "execution_count": 24,
   "id": "443ee3ae",
   "metadata": {},
   "outputs": [],
   "source": [
    "train = balanced_train2.copy(deep=True)"
   ]
  },
  {
   "cell_type": "code",
   "execution_count": 26,
   "id": "ccfaf118",
   "metadata": {},
   "outputs": [
    {
     "name": "stdout",
     "output_type": "stream",
     "text": [
      "(132414, 165218) (132414,)\n",
      "(6970, 165218) (6970,)\n"
     ]
    }
   ],
   "source": [
    "# for xgboost\n",
    "tokenizer = TweetTokenizer()\n",
    "# vectorizer = TfidfVectorizer(ngram_range=(1, 3), tokenizer=tokenizer.tokenize, stop_words='english')\n",
    "# full_text = list(train['log'].values) + list(test['log'].values)\n",
    "# vectorizer.fit(full_text)\n",
    "# train_vectorized = vectorizer.transform(train['log'])\n",
    "# test_vectorized = vectorizer.transform(test['log'])\n",
    "\n",
    "vectorizer1 = TfidfVectorizer(ngram_range=(1, 5), analyzer='char', tokenizer=tokenizer.tokenize, stop_words='english')\n",
    "full_text = list(train['log'].values) + list(test['log'].values)\n",
    "vectorizer1.fit(full_text)\n",
    "train_vectorized1 = vectorizer1.transform(train['log'])\n",
    "test_vectorized1 = vectorizer1.transform(test['log'])\n",
    "\n",
    "train[\"status\"] = train[\"status\"].map({\"abnormal\":0,\"normal\":1})\n",
    "y = train['status']\n",
    "\n",
    "# train_matrix = hstack((train_vectorized, train_vectorized1))\n",
    "# test_matrix = hstack((test_vectorized, test_vectorized1))\n",
    "\n",
    "X_train1, X_test1, Y_train1, Y_test1 = train_test_split(train_vectorized1,y, test_size = 0.05, random_state = 42)\n",
    "print(X_train1.shape,Y_train1.shape)\n",
    "print(X_test1.shape,Y_test1.shape)"
   ]
  },
  {
   "cell_type": "code",
   "execution_count": 27,
   "id": "601d5f20",
   "metadata": {},
   "outputs": [
    {
     "data": {
      "text/plain": [
       "3672976    1\n",
       "1015951    1\n",
       "4150103    0\n",
       "4087324    0\n",
       "4140189    0\n",
       "          ..\n",
       "12857      1\n",
       "222120     1\n",
       "3896588    1\n",
       "2406617    1\n",
       "793453     1\n",
       "Name: status, Length: 139384, dtype: int64"
      ]
     },
     "execution_count": 27,
     "metadata": {},
     "output_type": "execute_result"
    }
   ],
   "source": [
    "train[\"status\"]"
   ]
  },
  {
   "cell_type": "code",
   "execution_count": 28,
   "id": "8dfb494e",
   "metadata": {},
   "outputs": [],
   "source": [
    "model3 = xgb.XGBClassifier(\n",
    " learning_rate =0.1,\n",
    " n_estimators=1000,\n",
    " max_depth=5,\n",
    " min_child_weight=1,\n",
    " gamma=0,\n",
    " subsample=0.8,\n",
    " colsample_bytree=0.8,\n",
    " objective= 'binary:logistic',\n",
    " nthread=4,\n",
    " scale_pos_weight=1,\n",
    " seed=27)"
   ]
  },
  {
   "cell_type": "code",
   "execution_count": 29,
   "id": "7955cf39",
   "metadata": {},
   "outputs": [],
   "source": [
    "# This is tokenized X and Y \n",
    "train_model3 = model3.fit(X_train1, Y_train1)\n",
    "pred3 = train_model3.predict(X_test1)"
   ]
  },
  {
   "cell_type": "code",
   "execution_count": 30,
   "id": "2f3bbe57",
   "metadata": {},
   "outputs": [],
   "source": [
    "# train_model3 = model3.fit(X_train, Y_train)\n",
    "pred4 = train_model3.predict(X_test1)"
   ]
  },
  {
   "cell_type": "code",
   "execution_count": 31,
   "id": "15930f0c",
   "metadata": {},
   "outputs": [
    {
     "name": "stdout",
     "output_type": "stream",
     "text": [
      "              precision    recall  f1-score   support\n",
      "\n",
      "           0       1.00      1.00      1.00      3429\n",
      "           1       1.00      1.00      1.00      3541\n",
      "\n",
      "    accuracy                           1.00      6970\n",
      "   macro avg       1.00      1.00      1.00      6970\n",
      "weighted avg       1.00      1.00      1.00      6970\n",
      "\n"
     ]
    }
   ],
   "source": [
    "print(classification_report(Y_test1,pred4))"
   ]
  },
  {
   "cell_type": "code",
   "execution_count": 33,
   "id": "78cf51bd",
   "metadata": {},
   "outputs": [],
   "source": [
    "pred = train_model3.predict(test_vectorized1)"
   ]
  },
  {
   "cell_type": "code",
   "execution_count": 34,
   "id": "8aaf6258",
   "metadata": {},
   "outputs": [
    {
     "data": {
      "text/html": [
       "<div>\n",
       "<style scoped>\n",
       "    .dataframe tbody tr th:only-of-type {\n",
       "        vertical-align: middle;\n",
       "    }\n",
       "\n",
       "    .dataframe tbody tr th {\n",
       "        vertical-align: top;\n",
       "    }\n",
       "\n",
       "    .dataframe thead th {\n",
       "        text-align: right;\n",
       "    }\n",
       "</style>\n",
       "<table border=\"1\" class=\"dataframe\">\n",
       "  <thead>\n",
       "    <tr style=\"text-align: right;\">\n",
       "      <th></th>\n",
       "      <th>log</th>\n",
       "      <th>ID</th>\n",
       "    </tr>\n",
       "  </thead>\n",
       "  <tbody>\n",
       "    <tr>\n",
       "      <th>0</th>\n",
       "      <td>kernel terminated for reason 1001\\n</td>\n",
       "      <td>0</td>\n",
       "    </tr>\n",
       "    <tr>\n",
       "      <th>1</th>\n",
       "      <td>J16-U01 RAS KERNEL FATAL data TLB error interrupt\\n</td>\n",
       "      <td>1</td>\n",
       "    </tr>\n",
       "    <tr>\n",
       "      <th>2</th>\n",
       "      <td>J16-U01 RAS KERNEL FATAL data TLB error interrupt\\n</td>\n",
       "      <td>2</td>\n",
       "    </tr>\n",
       "    <tr>\n",
       "      <th>3</th>\n",
       "      <td>J03-U11 RAS KERNEL INFO generating core.6463\\n</td>\n",
       "      <td>3</td>\n",
       "    </tr>\n",
       "    <tr>\n",
       "      <th>4</th>\n",
       "      <td>J16-U01 RAS KERNEL FATAL data TLB error interrupt\\n</td>\n",
       "      <td>4</td>\n",
       "    </tr>\n",
       "  </tbody>\n",
       "</table>\n",
       "</div>"
      ],
      "text/plain": [
       "                                                   log  ID\n",
       "0                  kernel terminated for reason 1001\\n   0\n",
       "1  J16-U01 RAS KERNEL FATAL data TLB error interrupt\\n   1\n",
       "2  J16-U01 RAS KERNEL FATAL data TLB error interrupt\\n   2\n",
       "3       J03-U11 RAS KERNEL INFO generating core.6463\\n   3\n",
       "4  J16-U01 RAS KERNEL FATAL data TLB error interrupt\\n   4"
      ]
     },
     "execution_count": 34,
     "metadata": {},
     "output_type": "execute_result"
    }
   ],
   "source": [
    "test.head()"
   ]
  },
  {
   "cell_type": "code",
   "execution_count": 37,
   "id": "17dec18d",
   "metadata": {},
   "outputs": [],
   "source": [
    "sub_new = test.copy(deep=True)\n",
    "sub_new['status'] = pred\n",
    "sub_new.rename(columns = {'status':' Label'}, inplace = True)\n",
    "sub_new = sub_new.drop(['log'], axis=1)\n",
    "sub_new[\" Label\"] = sub_new[\" Label\"].map({0:\"abnormal\",1:\"normal\"})"
   ]
  },
  {
   "cell_type": "code",
   "execution_count": 38,
   "id": "de37eeec",
   "metadata": {},
   "outputs": [],
   "source": [
    "# sub_new[\" Label\"] = sub_new[\" Label\"].map({0:\"abnormal\",1:\"normal\"})"
   ]
  },
  {
   "cell_type": "code",
   "execution_count": 39,
   "id": "c60b8026",
   "metadata": {},
   "outputs": [],
   "source": [
    "# sub_new= sub_new.loc[:,~sub_new.columns.duplicated()].copy()"
   ]
  },
  {
   "cell_type": "code",
   "execution_count": 40,
   "id": "d2b61fae",
   "metadata": {},
   "outputs": [
    {
     "data": {
      "text/html": [
       "<div>\n",
       "<style scoped>\n",
       "    .dataframe tbody tr th:only-of-type {\n",
       "        vertical-align: middle;\n",
       "    }\n",
       "\n",
       "    .dataframe tbody tr th {\n",
       "        vertical-align: top;\n",
       "    }\n",
       "\n",
       "    .dataframe thead th {\n",
       "        text-align: right;\n",
       "    }\n",
       "</style>\n",
       "<table border=\"1\" class=\"dataframe\">\n",
       "  <thead>\n",
       "    <tr style=\"text-align: right;\">\n",
       "      <th></th>\n",
       "      <th>ID</th>\n",
       "      <th>Label</th>\n",
       "    </tr>\n",
       "  </thead>\n",
       "  <tbody>\n",
       "    <tr>\n",
       "      <th>0</th>\n",
       "      <td>0</td>\n",
       "      <td>normal</td>\n",
       "    </tr>\n",
       "    <tr>\n",
       "      <th>1</th>\n",
       "      <td>1</td>\n",
       "      <td>normal</td>\n",
       "    </tr>\n",
       "    <tr>\n",
       "      <th>2</th>\n",
       "      <td>2</td>\n",
       "      <td>normal</td>\n",
       "    </tr>\n",
       "    <tr>\n",
       "      <th>3</th>\n",
       "      <td>3</td>\n",
       "      <td>normal</td>\n",
       "    </tr>\n",
       "    <tr>\n",
       "      <th>4</th>\n",
       "      <td>4</td>\n",
       "      <td>normal</td>\n",
       "    </tr>\n",
       "  </tbody>\n",
       "</table>\n",
       "</div>"
      ],
      "text/plain": [
       "   ID   Label\n",
       "0   0  normal\n",
       "1   1  normal\n",
       "2   2  normal\n",
       "3   3  normal\n",
       "4   4  normal"
      ]
     },
     "execution_count": 40,
     "metadata": {},
     "output_type": "execute_result"
    }
   ],
   "source": [
    "sub_new.head()"
   ]
  },
  {
   "cell_type": "code",
   "execution_count": 41,
   "id": "627e7c84",
   "metadata": {},
   "outputs": [
    {
     "data": {
      "text/plain": [
       "0.0"
      ]
     },
     "execution_count": 41,
     "metadata": {},
     "output_type": "execute_result"
    }
   ],
   "source": [
    "len(sub_new[sub_new[\" Label\"] == \"abnormal\"])/len(sub_new)\n",
    "# earlier 0.380398118595666"
   ]
  },
  {
   "cell_type": "code",
   "execution_count": null,
   "id": "ecc1cf73",
   "metadata": {},
   "outputs": [],
   "source": [
    "sub_new.to_csv(r'C:\\Users\\rajag\\Desktop\\convolve\\convolve_epoch_1\\submission\\submission_5.csv', index=False)"
   ]
  },
  {
   "cell_type": "code",
   "execution_count": null,
   "id": "7fd398a0",
   "metadata": {},
   "outputs": [],
   "source": []
  },
  {
   "cell_type": "code",
   "execution_count": null,
   "id": "6fee6e2a",
   "metadata": {},
   "outputs": [],
   "source": []
  },
  {
   "cell_type": "code",
   "execution_count": null,
   "id": "49c6ba58",
   "metadata": {},
   "outputs": [],
   "source": []
  }
 ],
 "metadata": {
  "kernelspec": {
   "display_name": "Python 3",
   "language": "python",
   "name": "python3"
  },
  "language_info": {
   "codemirror_mode": {
    "name": "ipython",
    "version": 3
   },
   "file_extension": ".py",
   "mimetype": "text/x-python",
   "name": "python",
   "nbconvert_exporter": "python",
   "pygments_lexer": "ipython3",
   "version": "3.8.8"
  }
 },
 "nbformat": 4,
 "nbformat_minor": 5
}
